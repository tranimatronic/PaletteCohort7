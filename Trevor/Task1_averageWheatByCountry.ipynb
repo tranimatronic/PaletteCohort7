{
 "cells": [
  {
   "cell_type": "markdown",
   "metadata": {},
   "source": [
    "## Requirements:  \n",
    "`Create a geographic data visualization that shows the **average** wheat production by country for the years 2020 to 2022 `  \n",
    "Downloaded world geo.json and using wheat production by year data.  \n",
    "Create mean average of each years data as new field.  \n",
    "Fill the country polygon with a color depending on mean value, giving a Choropleth visualisation of country by population    \n",
    "[Choropleth Map](https://geopandas.org/en/stable/docs/user_guide/mapping.html)  \n",
    "\n",
    "#Data extraction. Set up the pandas Dataframe object from the given URL and a geoPandasDataFrame  \n",
    "\n",
    "  "
   ]
  },
  {
   "cell_type": "code",
   "execution_count": null,
   "metadata": {},
   "outputs": [],
   "source": [
    "%matplotlib ipympl\n",
    "import pandas\n",
    "import geopandas as gpd\n",
    "import matplotlib.pyplot as plt\n",
    "import matplotlib as mpl\n"
   ]
  },
  {
   "cell_type": "code",
   "execution_count": null,
   "metadata": {},
   "outputs": [],
   "source": [
    "# create a dataframe containing wheat production data\n",
    "wheat_production_url = r'https://en.wikipedia.org/wiki/List_of_countries_by_wheat_production'\n",
    "wheat_query = pandas.read_html(wheat_production_url)\n",
    "wheat_df = wheat_query[0]\n",
    "\n",
    "# create a geoDataFrame containing the geometry of the world from previously downloaded geoJson\n",
    "geoDataFrame = gpd.read_file(\"C:\\\\Users\\\\Trevor\\\\Documents\\\\GitHub\\\\PaletteCohort7\\\\Trevor\\\\data\\\\world_map.geo.json\")"
   ]
  },
  {
   "cell_type": "markdown",
   "metadata": {},
   "source": [
    "Data prep. Wheat DataFrame. Clip excess data before 2020 and remove totals row as it throws everything off.  \n",
    "Rename the Location to match the GeoDatFrame sovereignt column so we can merge them. Rename USA cell otherwise  \n",
    "it wont match. **REMEMBER** to capture the output or use `inplace=True` otherwise changes arent recorded ;)"
   ]
  },
  {
   "cell_type": "code",
   "execution_count": null,
   "metadata": {},
   "outputs": [],
   "source": [
    "# remove totals row as this throws everything off and remove every year column before 2020\n",
    "clipped = wheat_df.iloc[1:, 0:4]\n",
    "clipped.info()\n",
    "\n",
    "# get the mean value of rows [2022[1], 2021[1], 2020[1]] and add them to the dataframe\n",
    "clipped['mean'] = clipped.iloc[:, 1:4].mean(axis=1)\n",
    "\n",
    "# Location = United States socereignt = 'United States of America'\n",
    "clipped['Country'] = clipped['Country'].str.replace(\"United States\", \"United States of America\")\n",
    "# make the column names match the geoLocationData so merge works\n",
    "\n",
    "clipped['sovereignt'] = clipped['Country']\n",
    "# merge favoring the left value\n",
    "merged_data_frame = pandas.merge(geoDataFrame, clipped, on='sovereignt', how='left')\n",
    "merged_data_frame.fillna(1, inplace=True)\n"
   ]
  },
  {
   "cell_type": "markdown",
   "metadata": {},
   "source": [
    "wheat values == 41 entries(countries)  \n",
    "geoDataFrame == 242 entries (countries) containing duplicates  \n",
    "this leaves 201 countries with no mean wheat production value. If we send this to the   \n",
    "plot() function, it will not render the country, so we have to fill the null values with 1  \n",
    "**REMEMBER** `inplace=True` to capture the output  \n",
    "  "
   ]
  },
  {
   "cell_type": "code",
   "execution_count": null,
   "metadata": {},
   "outputs": [],
   "source": [
    "# column= maps color by the column, giving different fill colors to the geometry per value\n",
    "# legend=True shows the legend of the color values\n",
    "title_text = \"Country By Average Wheat Production 2020-22 (Million Tonnes)\"\n",
    "merged_data_frame.sort_values(\"mean\", ascending=False, inplace=True)\n",
    "\n"
   ]
  },
  {
   "cell_type": "code",
   "execution_count": null,
   "metadata": {},
   "outputs": [],
   "source": [
    "#column='mean', \n",
    "axis = merged_data_frame.plot(legend=True, \n",
    "                         column='mean',\n",
    "                              cmap='OrRd',\n",
    "                              aspect=1, \n",
    "                              edgecolor='black', \n",
    "                              figsize=(10, 6)\n",
    "                              ).set_title(title_text)\n",
    "\n",
    "plt.show()"
   ]
  },
  {
   "cell_type": "markdown",
   "metadata": {},
   "source": []
  }
 ],
 "metadata": {
  "kernelspec": {
   "display_name": "Python 3 (ipykernel)",
   "language": "python",
   "name": "python3"
  },
  "language_info": {
   "codemirror_mode": {
    "name": "ipython",
    "version": 3
   },
   "file_extension": ".py",
   "mimetype": "text/x-python",
   "name": "python",
   "nbconvert_exporter": "python",
   "pygments_lexer": "ipython3",
   "version": "3.11.1"
  }
 },
 "nbformat": 4,
 "nbformat_minor": 4
}
