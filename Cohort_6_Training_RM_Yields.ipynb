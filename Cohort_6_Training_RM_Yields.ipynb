{
 "cells": [
  {
   "cell_type": "code",
   "execution_count": null,
   "metadata": {},
   "outputs": [],
   "source": [
    "# Importin Libraries\n",
    "\n",
    "import pandas as pd # Data manipulation\n",
    "import numpy as np # Matrix calculation\n",
    "import geopandas as gpd # GIS of Pandas\n",
    "import seaborn as sb # Parof of matplotlib for Data Viz\n",
    "import matplotlib.pyplot as plt # data viz"
   ]
  },
  {
   "cell_type": "markdown",
   "metadata": {},
   "source": [
    "# ETL (Extract, Tranform, Load)"
   ]
  },
  {
   "cell_type": "markdown",
   "metadata": {},
   "source": [
    "### Data Extraction"
   ]
  },
  {
   "cell_type": "code",
   "execution_count": null,
   "metadata": {},
   "outputs": [],
   "source": [
    "# Defining Directories\n",
    "\n",
    "directory_main = '/users/ruhidmirzayev/palette/notebooks/cohort 6/'\n",
    "# Yield\n",
    "directory_rm_yields = directory_main + 'rm-yields-data.csv'\n",
    "#GIS\n",
    "directory_gis= directory_main + 'SK_RM_Shapefiles/RuralMunicipality.shp'"
   ]
  },
  {
   "cell_type": "code",
   "execution_count": null,
   "metadata": {},
   "outputs": [],
   "source": [
    "# Reading Yields\n",
    "df_rm_yields=pd.read_csv(directory_rm_yields)\n",
    "# Reading GIS\n",
    "gdf_rm=gpd.read_file(directory_gis)\n"
   ]
  },
  {
   "cell_type": "markdown",
   "metadata": {},
   "source": [
    "### Data Transformation"
   ]
  },
  {
   "cell_type": "code",
   "execution_count": null,
   "metadata": {},
   "outputs": [],
   "source": [
    "df_rm_yields.info()"
   ]
  },
  {
   "cell_type": "code",
   "execution_count": null,
   "metadata": {},
   "outputs": [],
   "source": [
    "df_rm_yields.isna().sum()"
   ]
  },
  {
   "cell_type": "code",
   "execution_count": null,
   "metadata": {},
   "outputs": [],
   "source": [
    "df_rm_yields.describe().T\n"
   ]
  },
  {
   "cell_type": "code",
   "execution_count": null,
   "metadata": {},
   "outputs": [],
   "source": [
    "df_rm_yields"
   ]
  },
  {
   "cell_type": "code",
   "execution_count": null,
   "metadata": {},
   "outputs": [],
   "source": [
    "gdf_rm.plot() # good for GitHub"
   ]
  },
  {
   "cell_type": "raw",
   "metadata": {},
   "source": [
    "# Canola 30% - 99% of Canada is in Prairies\n",
    "# Wheat-Spring 30%\n",
    "# Peas\n",
    "# Oats\n",
    "# Lentils\n",
    "# Wheat-Durum"
   ]
  },
  {
   "cell_type": "code",
   "execution_count": null,
   "metadata": {},
   "outputs": [],
   "source": [
    "df_major_crops=df_rm_yields[['Year', 'RM', 'Canola', 'Spring Wheat',\n",
    "       'Durum','Oats', 'Lentils', 'Peas', 'Barley']]"
   ]
  },
  {
   "cell_type": "code",
   "execution_count": null,
   "metadata": {},
   "outputs": [],
   "source": [
    "df_major_crops.describe().T\n",
    "# Spring wheat 198 - investigate\n",
    "# Oats 165 to invistigate\n",
    "# 4 digits Lentils to investigate - 1 bushel = 60 pounds\n"
   ]
  },
  {
   "cell_type": "code",
   "execution_count": null,
   "metadata": {},
   "outputs": [],
   "source": [
    "# Changing Pounds to bushels\n",
    "df_major_crops['Lentils']=df_major_crops['Lentils']/60"
   ]
  },
  {
   "cell_type": "code",
   "execution_count": null,
   "metadata": {},
   "outputs": [],
   "source": [
    "df_major_crops.describe().T"
   ]
  },
  {
   "cell_type": "code",
   "execution_count": null,
   "metadata": {},
   "outputs": [],
   "source": [
    "gdf_rm_clean=gdf_rm[['RMNO', 'RMNM', 'geometry']]"
   ]
  },
  {
   "cell_type": "code",
   "execution_count": null,
   "metadata": {},
   "outputs": [],
   "source": [
    "print(gdf_rm_clean.info())\n",
    "print(df_major_crops.info())"
   ]
  },
  {
   "cell_type": "code",
   "execution_count": null,
   "metadata": {},
   "outputs": [],
   "source": [
    "# Need to change Object to Int\n",
    "gdf_rm_clean['RMNO']=gdf_rm_clean['RMNO'].astype(int)"
   ]
  },
  {
   "cell_type": "markdown",
   "metadata": {},
   "source": [
    "# Exploratory Data Analysis"
   ]
  },
  {
   "cell_type": "markdown",
   "metadata": {},
   "source": [
    "## Missing values"
   ]
  },
  {
   "cell_type": "markdown",
   "metadata": {},
   "source": [
    "## GIS Analysis"
   ]
  },
  {
   "cell_type": "code",
   "execution_count": null,
   "metadata": {},
   "outputs": [],
   "source": [
    "gdf_rm_clean"
   ]
  },
  {
   "cell_type": "code",
   "execution_count": null,
   "metadata": {},
   "outputs": [],
   "source": [
    "# Changin CRS system to regular lon and lat\n",
    "gdf_rm_clean=gdf_rm_clean.to_crs(4326)"
   ]
  },
  {
   "cell_type": "code",
   "execution_count": null,
   "metadata": {},
   "outputs": [],
   "source": [
    "df_major_crops"
   ]
  },
  {
   "cell_type": "code",
   "execution_count": null,
   "metadata": {},
   "outputs": [],
   "source": [
    "# Merging Yield data with GIS\n",
    "gdf_rm_yield=pd.merge(gdf_rm_clean.rename(columns={'RMNO':'RM'}), df_major_crops, on='RM', how='inner')"
   ]
  },
  {
   "cell_type": "code",
   "execution_count": null,
   "metadata": {},
   "outputs": [],
   "source": [
    "# looking at unique RM names for GIS data\n",
    "gdf_rm_yield['RM'].unique()"
   ]
  },
  {
   "cell_type": "code",
   "execution_count": null,
   "metadata": {},
   "outputs": [],
   "source": [
    "# looking at unique RM names for yield data\n",
    "df_major_crops['RM'].unique()"
   ]
  },
  {
   "cell_type": "code",
   "execution_count": null,
   "metadata": {},
   "outputs": [],
   "source": [
    "# Plot can be displayed in GitHub\n",
    "gdf_rm_yield[gdf_rm_yield['Year']==2021]\\\n",
    "    .plot(column='Canola',\n",
    "             cmap='Greens',\n",
    "             legend=True)\n",
    "plt.title('Canola Yield 2021', color='teal', size=16)\n",
    "plt.xticks(color='white')\n",
    "plt.yticks(color='white')\n",
    "plt.show()"
   ]
  },
  {
   "cell_type": "code",
   "execution_count": null,
   "metadata": {},
   "outputs": [],
   "source": [
    "# List of crops to include in plots\n",
    "crops = ['Spring Wheat', 'Durum', 'Oats', 'Lentils', 'Peas', 'Barley', 'Canola']\n",
    "\n",
    "# List of years to include in subplots\n",
    "years = list(range(2004, 2023 + 1))\n",
    "\n",
    "# Function to plot yield data for a specific crop\n",
    "def plot_yield_by_year(crop):\n",
    "    # Set up the figure with 4 rows and 5 columns for the 20 subplots\n",
    "    fig, axs = plt.subplots(4, 5, figsize=(20, 16))\n",
    "    fig.suptitle(f'{crop} Yield per Year (2004 - 2023)', color='teal', size=20)\n",
    "    \n",
    "    # Flatten the axs array for easy indexing\n",
    "    axs = axs.flatten()\n",
    "\n",
    "    # Loop through each year and plot it on its respective subplot\n",
    "    for i, year in enumerate(years):\n",
    "        ax = axs[i]\n",
    "        gdf_rm_yield[gdf_rm_yield['Year'] == year].plot(\n",
    "            column=crop,\n",
    "            cmap='RdYlGn',\n",
    "            legend=False,\n",
    "            ax=ax,\n",
    "            edgecolor='black'\n",
    "        )\n",
    "        ax.set_title(f'Year: {year}', color='teal', size=12)\n",
    "        ax.set_xticks([])\n",
    "        ax.set_yticks([])\n",
    "        ax.set_xlabel('')\n",
    "        ax.set_ylabel('')\n",
    "    \n",
    "    # Adjust the spacing between subplots for readability\n",
    "    plt.tight_layout(rect=[0, 0, 1, 0.95])\n",
    "    plt.show()\n",
    "\n",
    "# Generate plots for each crop\n",
    "for crop in crops:\n",
    "    plot_yield_by_year(crop)"
   ]
  },
  {
   "cell_type": "code",
   "execution_count": null,
   "metadata": {},
   "outputs": [],
   "source": [
    "# crops - is a list defined in mapping cell\n",
    "# >0.2 slight correlation\n",
    "# >0.4 Moderate corrleation\n",
    "# > 0.6 High\n",
    "# > 0.8 Very correlation \n",
    "\n",
    "# Pearson Correlation\n",
    "sb.heatmap(df_major_crops.loc[df_major_crops['Year']>2003][crops].corr(),\n",
    "           annot=True,\n",
    "           cmap='RdYlGn')\n",
    "\n",
    "# Rank correlatation"
   ]
  },
  {
   "cell_type": "markdown",
   "metadata": {},
   "source": [
    "## Outliers"
   ]
  },
  {
   "cell_type": "markdown",
   "metadata": {},
   "source": [
    "**Before treating**"
   ]
  },
  {
   "cell_type": "code",
   "execution_count": null,
   "metadata": {},
   "outputs": [],
   "source": [
    "# Filter the DataFrame for the years 2004-2023\n",
    "filtered_df = df_major_crops[(df_major_crops['Year'] >= 2004) & (df_major_crops['Year'] <= 2023)]\n",
    "\n",
    "# Define the list of crops\n",
    "crops = ['Canola', 'Spring Wheat', 'Durum', 'Oats', 'Lentils', 'Peas', 'Barley']\n",
    "\n",
    "# Set up the figure and axes\n",
    "fig, axes = plt.subplots(nrows=4, ncols=5, figsize=(20, 16))\n",
    "\n",
    "# Flatten the axes array for easy iteration\n",
    "axes = axes.flatten()\n",
    "\n",
    "# Iterate through the years and create a boxplot for each crop\n",
    "for i, year in enumerate(range(2004, 2023 + 1)):\n",
    "    if i < len(axes):\n",
    "        ax = axes[i]\n",
    "        year_data = filtered_df[filtered_df['Year'] == year]\n",
    "        year_data.boxplot(column=crops, ax=ax)\n",
    "        ax.set_title(f'Year: {year}', size=12, color='teal')\n",
    "        ax.tick_params(axis='x', rotation=30)  # Rotate x-tick labels\n",
    "\n",
    "# Hide any unused subplots\n",
    "for j in range(i + 1, len(axes)):\n",
    "    fig.delaxes(axes[j])\n",
    "\n",
    "# Adjust layout\n",
    "plt.tight_layout()\n",
    "plt.show()\n"
   ]
  },
  {
   "cell_type": "markdown",
   "metadata": {},
   "source": [
    "**After treating**"
   ]
  },
  {
   "cell_type": "code",
   "execution_count": null,
   "metadata": {},
   "outputs": [],
   "source": [
    "# Define the list of crops\n",
    "crops = ['Canola', 'Spring Wheat', 'Durum', 'Oats', 'Lentils', 'Peas', 'Barley']\n",
    "\n",
    "# Calculate mean and standard deviation for each crop\n",
    "means = df_major_crops[crops].mean()\n",
    "stds = df_major_crops[crops].std()\n",
    "\n",
    "# Determine the clipping bounds\n",
    "lower_bounds = means - 3 * stds\n",
    "upper_bounds = means + 3 * stds\n",
    "\n",
    "# Clip the data\n",
    "df_clipped = df_major_crops.copy()\n",
    "for crop in crops:\n",
    "    df_clipped[crop] = df_major_crops[crop].clip(lower=lower_bounds[crop], upper=upper_bounds[crop])"
   ]
  },
  {
   "cell_type": "code",
   "execution_count": null,
   "metadata": {},
   "outputs": [],
   "source": [
    "# Define the list of crops\n",
    "crops = ['Canola', 'Spring Wheat', 'Durum', 'Oats', 'Lentils', 'Peas', 'Barley']\n",
    "\n",
    "# Set up the figure and axes\n",
    "fig, axes = plt.subplots(nrows=4, ncols=5, figsize=(20, 16))\n",
    "\n",
    "# Flatten the axes array for easy iteration\n",
    "axes = axes.flatten()\n",
    "\n",
    "# Iterate through the years and create a boxplot for each crop\n",
    "for i, year in enumerate(range(2004, 2023 + 1)):\n",
    "    if i < len(axes):\n",
    "        ax = axes[i]\n",
    "        year_data = df_clipped[df_clipped['Year'] == year]\n",
    "        year_data.boxplot(column=crops, ax=ax)\n",
    "        ax.set_title(f'Year: {year}', size=12, color='teal')\n",
    "        ax.tick_params(axis='x', rotation=30)  # Rotate x-tick labels\n",
    "\n",
    "# Hide any unused subplots\n",
    "for j in range(i + 1, len(axes)):\n",
    "    fig.delaxes(axes[j])\n",
    "\n",
    "# Adjust layout\n",
    "plt.tight_layout()\n",
    "plt.show()\n"
   ]
  },
  {
   "cell_type": "markdown",
   "metadata": {},
   "source": [
    "## Histograms"
   ]
  },
  {
   "cell_type": "markdown",
   "metadata": {},
   "source": [
    "# Feature Construction and Selection"
   ]
  },
  {
   "cell_type": "code",
   "execution_count": null,
   "metadata": {},
   "outputs": [],
   "source": [
    "# We will filter years from 2000-2023\n",
    "\n",
    "df_00_23=df_major_crops[df_major_crops['Year']>=2000]"
   ]
  },
  {
   "cell_type": "code",
   "execution_count": null,
   "metadata": {},
   "outputs": [],
   "source": [
    "# Feature Construction\n",
    "# Hisotrical average and Std\n",
    "\n",
    "df_00_23.groupby('RM').mean()"
   ]
  },
  {
   "cell_type": "code",
   "execution_count": null,
   "metadata": {},
   "outputs": [],
   "source": [
    "pd.merge(\n",
    "    gdf_rm_clean.rename(columns={'RMNO': 'RM'}),\n",
    "    df_00_23.groupby('RM').mean(),\n",
    "    on='RM').plot('Canola', cmap='RdYlGn', legend=True)\n",
    "plt.title('Historical Average | Canola')\n",
    "plt.show"
   ]
  },
  {
   "cell_type": "code",
   "execution_count": null,
   "metadata": {},
   "outputs": [],
   "source": [
    "merged_df = pd.merge(\n",
    "    gdf_rm_clean.rename(columns={'RMNO': 'RM'}),\n",
    "    df_00_23.groupby('RM').mean(),\n",
    "    on='RM'\n",
    ")\n",
    "\n",
    "# List of crops\n",
    "crops = ['Canola', 'Spring Wheat', 'Durum', 'Oats', 'Lentils', 'Peas', 'Barley']\n",
    "\n",
    "# Create a subplot for each crop\n",
    "fig, axes = plt.subplots(nrows=len(crops), figsize=(10, 5 * len(crops)))\n",
    "\n",
    "# Plot each crop\n",
    "for i, crop in enumerate(crops):\n",
    "    merged_df.plot(column=crop, cmap='RdYlGn', legend=True, ax=axes[i])\n",
    "    axes[i].set_title(f'Historical Average | {crop}')\n",
    "\n",
    "plt.tight_layout()\n",
    "plt.show()\n"
   ]
  },
  {
   "cell_type": "code",
   "execution_count": null,
   "metadata": {},
   "outputs": [],
   "source": [
    "merged_df = pd.merge(\n",
    "    gdf_rm_clean.rename(columns={'RMNO': 'RM'}),\n",
    "    df_00_23.groupby('RM').std(),\n",
    "    on='RM'\n",
    ")\n",
    "\n",
    "# List of crops\n",
    "crops = ['Canola', 'Spring Wheat', 'Durum', 'Oats', 'Lentils', 'Peas', 'Barley']\n",
    "\n",
    "# Create a subplot for each crop\n",
    "fig, axes = plt.subplots(nrows=len(crops), figsize=(10, 5 * len(crops)))\n",
    "\n",
    "# Plot each crop\n",
    "for i, crop in enumerate(crops):\n",
    "    merged_df.plot(column=crop, cmap='RdYlGn_r', legend=True, ax=axes[i])\n",
    "    axes[i].set_title(f'Historical Average | {crop}')\n",
    "\n",
    "plt.tight_layout()\n",
    "plt.show()"
   ]
  },
  {
   "cell_type": "code",
   "execution_count": null,
   "metadata": {},
   "outputs": [],
   "source": [
    "# List of crops\n",
    "crops = ['Canola', 'Spring Wheat', 'Durum', 'Oats', 'Lentils', 'Peas', 'Barley']\n",
    "\n",
    "# Group by 'RM' and calculate mean and standard deviation for each crop\n",
    "df_agg_00_23 = df_00_23.groupby('RM')[crops].agg(['mean', 'std'])\n",
    "\n",
    "# Flatten the column multi-index\n",
    "df_agg_00_23.columns = ['_'.join(col).strip() for col in df_agg_00_23.columns.values]\n",
    "\n",
    "# Reset index to make 'RM' a column again\n",
    "df_agg_00_23.reset_index(inplace=True)\n"
   ]
  },
  {
   "cell_type": "code",
   "execution_count": null,
   "metadata": {},
   "outputs": [],
   "source": [
    "# Feature Construction Completed\n",
    "# Mean and STD features are created\n",
    "df_agg_00_23"
   ]
  },
  {
   "cell_type": "markdown",
   "metadata": {},
   "source": [
    "- Unsupervised ML - no train, not test and not validation dataset\n",
    "- We do not standardise or normalize , min/max scaler, bucketizing, data in this spesific dataset, because mean and std of crops are the same unit."
   ]
  },
  {
   "cell_type": "code",
   "execution_count": null,
   "metadata": {},
   "outputs": [],
   "source": [
    "# Function to bucketize the year into decades\n",
    "def bucketize_decade(year):\n",
    "    decade_start = (year // 10) * 10\n",
    "    decade_end = decade_start + 9\n",
    "    return f\"{decade_start}-{decade_end}\""
   ]
  },
  {
   "cell_type": "code",
   "execution_count": null,
   "metadata": {},
   "outputs": [],
   "source": [
    "# Create a new column 'decade' using the function\n",
    "df_major_crops['decade'] = df_major_crops['Year'].apply(bucketize_decade)"
   ]
  },
  {
   "cell_type": "code",
   "execution_count": null,
   "metadata": {},
   "outputs": [],
   "source": [
    "crops = ['Canola', 'Spring Wheat', 'Durum', 'Oats', 'Lentils', 'Peas', 'Barley']\n",
    "df_major_crops[crops+['decade']].groupby('decade').mean()"
   ]
  }
 ],
 "metadata": {
  "kernelspec": {
   "display_name": "geo_env",
   "language": "python",
   "name": "python3"
  },
  "language_info": {
   "codemirror_mode": {
    "name": "ipython",
    "version": 3
   },
   "file_extension": ".py",
   "mimetype": "text/x-python",
   "name": "python",
   "nbconvert_exporter": "python",
   "pygments_lexer": "ipython3",
   "version": "3.11.5"
  }
 },
 "nbformat": 4,
 "nbformat_minor": 2
}
