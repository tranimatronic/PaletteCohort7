{
 "cells": [
  {
   "attachments": {},
   "cell_type": "markdown",
   "metadata": {},
   "source": [
    "# Introduction to Data Science"
   ]
  },
  {
   "attachments": {},
   "cell_type": "markdown",
   "metadata": {},
   "source": [
    "**Data science** is a multidisciplinary field that involves extracting knowledge and insights from structured and unstructured data using scientific methods, processes, algorithms, and systems. It combines elements of mathematics, statistics, computer science, and domain knowledge to uncover patterns, make predictions, and derive actionable insights.\n",
    "\n",
    "At its core, data science involves the collection, cleaning, analysis, interpretation, and visualization of large volumes of data to uncover meaningful patterns and trends. These patterns and trends can then be used to make informed decisions, solve complex problems, and drive innovation in various fields.\n",
    "\n",
    "Data scientists employ a range of techniques and tools, including statistical modeling, machine learning, data mining, data visualization, and data engineering, to extract insights and solve real-world problems. They work with structured data (such as databases and spreadsheets) and unstructured data (such as text, images, and videos) to gain a comprehensive understanding of the underlying data and extract valuable information.\n",
    "\n",
    "Data science has numerous applications across industries, including AGRICULTURE, finance, healthcare, marketing, e-commerce, social media, transportation, and more. It enables organizations to optimize processes, improve decision-making, enhance customer experiences, develop predictive models, and identify opportunities for growth and innovation.\n",
    "\n",
    "In summary, data science is a field that leverages data and analytical techniques to gain insights, solve problems, and drive informed decision-making across various domains and industries."
   ]
  },
  {
   "attachments": {},
   "cell_type": "markdown",
   "metadata": {},
   "source": [
    "<img src='https://miro.medium.com/v2/resize:fit:1400/format:webp/1*mgXvzNcwfpnBawI6XTkVRg.png' alt='Data Science' width='40%'>"
   ]
  },
  {
   "attachments": {},
   "cell_type": "markdown",
   "metadata": {},
   "source": [
    "# Introduction to GIS"
   ]
  },
  {
   "attachments": {},
   "cell_type": "markdown",
   "metadata": {},
   "source": [
    "GIS stands for Geographic Information System. It is a system designed to capture, store, analyze, manage, and present geospatial or geographic data. GIS integrates various types of data, including maps, satellite imagery, aerial photographs, and tabular data, allowing users to understand, visualize, and analyze relationships, patterns, and trends related to specific locations or geographic areas.\n",
    "\n",
    "Key components of GIS include:\n",
    "\n",
    "1. Data: GIS relies on geospatial data, which consists of information tied to specific geographic locations. This data can include attributes such as land use, population density, elevation, vegetation, infrastructure, and more.\n",
    "\n",
    "2. Software: GIS software provides tools and functionality for data input, storage, analysis, and visualization. Popular GIS software includes ArcGIS, QGIS, and Google Earth.\n",
    "\n",
    "3. Hardware: GIS software is typically used in conjunction with hardware such as computers, tablets, GPS devices, and remote sensing technologies (e.g., satellites, drones) for data collection and analysis.\n",
    "\n",
    "4. Analysis and Visualization: GIS enables users to perform spatial analysis, which involves querying, overlaying, and manipulating geospatial data to derive insights. It also facilitates the creation of maps, charts, and other visual representations of geospatial information.\n",
    "\n",
    "GIS has numerous applications in various fields:\n",
    "\n",
    "1. Urban Planning: GIS helps in analyzing land use patterns, transportation networks, zoning regulations, and infrastructure planning.\n",
    "\n",
    "2. Environmental Management: GIS is used to monitor and manage natural resources, track deforestation, identify wildlife habitats, and assess environmental impacts.\n",
    "\n",
    "3. Emergency Management: GIS aids in disaster response, evacuation planning, risk assessment, and resource allocation during emergencies.\n",
    "\n",
    "4. Public Health: GIS is employed in disease mapping, spatial epidemiology, healthcare facility location analysis, and public health planning.\n",
    "\n",
    "5. Business and Marketing: GIS assists in site selection for businesses, target market analysis, customer segmentation, and logistics optimization.\n",
    "\n",
    "6. Agriculture: GIS helps optimize crop management, monitor soil conditions, analyze yield patterns, and plan irrigation systems.\n",
    "\n",
    "These are just a few examples, and the applications of GIS are diverse and continuously expanding. GIS plays a crucial role in decision-making processes that require geographic insights and spatial understanding."
   ]
  },
  {
   "attachments": {},
   "cell_type": "markdown",
   "metadata": {},
   "source": [
    "<img src='https://images.nationalgeographic.org/image/upload/t_edhub_resource_key_image/v1638886493/EducationHub/photos/gis.jpg' alt='GIS' width='45%'>"
   ]
  },
  {
   "attachments": {},
   "cell_type": "markdown",
   "metadata": {},
   "source": [
    "# Training 1"
   ]
  },
  {
   "attachments": {},
   "cell_type": "markdown",
   "metadata": {},
   "source": [
    "## Python"
   ]
  },
  {
   "attachments": {},
   "cell_type": "markdown",
   "metadata": {},
   "source": [
    "Python is a high-level, interpreted, and general-purpose programming language. It was created by Guido van Rossum and first released in 1991. Python emphasizes code readability and has a clean syntax that allows programmers to express concepts in fewer lines of code compared to other languages. It supports multiple programming paradigms, including procedural, object-oriented, and functional programming.\n",
    "\n",
    "Python has gained immense popularity due to its simplicity, versatility, and a vast ecosystem of libraries and frameworks. Some key features of Python include:\n",
    "\n",
    "1. Readability: Python's syntax is designed to be easy to read and understand, making it suitable for beginners and experienced programmers alike.\n",
    "\n",
    "2. Large Standard Library: Python comes with a comprehensive standard library, providing a wide range of modules and functions for various tasks, such as file I/O, networking, web development, data processing, and more.\n",
    "\n",
    "3. Extensive Third-Party Libraries: Python has a vast collection of third-party libraries and frameworks, such as NumPy, Pandas, TensorFlow, Django, Flask, and many more, which extend its capabilities for specific domains like data science, machine learning, web development, scientific computing, and more.\n",
    "\n",
    "4. Cross-platform Compatibility: Python is available for various platforms, including Windows, macOS, Linux, and can run on different hardware architectures, making it highly portable.\n",
    "\n",
    "5. Integration Capabilities: Python can easily integrate with other languages like C, C++, Java, and .NET, allowing developers to leverage existing codebases or take advantage of high-performance libraries when needed.\n",
    "\n",
    "6. Rapid Development: Python's simplicity and large ecosystem enable developers to build applications quickly, reducing development time and improving productivity.\n",
    "\n",
    "Python finds applications in various domains, including:\n",
    "\n",
    "1. Web Development: Python has powerful web frameworks like Django and Flask, enabling developers to build scalable and robust web applications.\n",
    "\n",
    "2. Data Science and Machine Learning: Python's libraries like NumPy, Pandas, and scikit-learn provide tools for data manipulation, analysis, and machine learning, making it popular in the field of data science and artificial intelligence.\n",
    "\n",
    "3. Scientific Computing: Python, along with libraries like SciPy and Matplotlib, is extensively used in scientific research and engineering disciplines for numerical computations, simulations, and data visualization.\n",
    "\n",
    "4. Scripting and Automation: Python's simplicity and versatility make it an ideal choice for scripting tasks, automation, and system administration.\n",
    "\n",
    "5. Game Development: Python has libraries like Pygame that facilitate game development, prototyping, and simulation.\n",
    "\n",
    "6. Education: Python's readability and gentle learning curve make it a popular choice for teaching programming and computer science concepts."
   ]
  },
  {
   "attachments": {},
   "cell_type": "markdown",
   "metadata": {},
   "source": [
    "## 1.1 Hello World"
   ]
  },
  {
   "cell_type": "code",
   "execution_count": 1,
   "metadata": {},
   "outputs": [
    {
     "name": "stdout",
     "output_type": "stream",
     "text": [
      "Hello, World!\n"
     ]
    }
   ],
   "source": [
    "print('Hello, World!')"
   ]
  },
  {
   "attachments": {},
   "cell_type": "markdown",
   "metadata": {},
   "source": [
    "## 1.2 Data Types and Variables"
   ]
  },
  {
   "attachments": {},
   "cell_type": "markdown",
   "metadata": {},
   "source": [
    "### Numeric types: int and float"
   ]
  },
  {
   "attachments": {},
   "cell_type": "markdown",
   "metadata": {},
   "source": [
    "The float data type stands for floating-point numbers and represents numbers with decimal points. It can also represent scientific notation."
   ]
  },
  {
   "cell_type": "code",
   "execution_count": 6,
   "metadata": {},
   "outputs": [],
   "source": [
    "height = 1.72"
   ]
  },
  {
   "cell_type": "code",
   "execution_count": 7,
   "metadata": {},
   "outputs": [
    {
     "data": {
      "text/plain": [
       "1.72"
      ]
     },
     "execution_count": 7,
     "metadata": {},
     "output_type": "execute_result"
    }
   ],
   "source": [
    "height"
   ]
  },
  {
   "attachments": {},
   "cell_type": "markdown",
   "metadata": {},
   "source": [
    "The int data type stands for integer and represents whole numbers without decimal points. It can be positive, negative, or zero."
   ]
  },
  {
   "cell_type": "code",
   "execution_count": 8,
   "metadata": {},
   "outputs": [],
   "source": [
    "age = 25\n",
    "age_flaot = 25.5"
   ]
  },
  {
   "attachments": {},
   "cell_type": "markdown",
   "metadata": {},
   "source": [
    "### String type"
   ]
  },
  {
   "attachments": {},
   "cell_type": "markdown",
   "metadata": {},
   "source": [
    "str is a built-in data type used to represent strings of characters. A string is a sequence of characters enclosed within single quotes (') or double quotes (\")."
   ]
  },
  {
   "cell_type": "code",
   "execution_count": 9,
   "metadata": {},
   "outputs": [],
   "source": [
    "name = \"John Snow\""
   ]
  },
  {
   "attachments": {},
   "cell_type": "markdown",
   "metadata": {},
   "source": [
    "### Boolean type"
   ]
  },
  {
   "attachments": {},
   "cell_type": "markdown",
   "metadata": {},
   "source": [
    "In Python, bool is a built-in data type that represents Boolean values. Boolean values can be either True or False. It is primarily used for logical operations and control flow in programming."
   ]
  },
  {
   "cell_type": "code",
   "execution_count": 10,
   "metadata": {},
   "outputs": [],
   "source": [
    "is_valid = True\n",
    "is_not_valid= False"
   ]
  },
  {
   "attachments": {},
   "cell_type": "markdown",
   "metadata": {},
   "source": [
    "### List type"
   ]
  },
  {
   "attachments": {},
   "cell_type": "markdown",
   "metadata": {},
   "source": [
    "In Python, a list is a built-in data type that represents an ordered collection of elements. It is a versatile and mutable data structure, meaning that you can add, remove, or modify elements within a list."
   ]
  },
  {
   "cell_type": "code",
   "execution_count": 11,
   "metadata": {},
   "outputs": [],
   "source": [
    "numbers = [1, 2, 3, 4, 5]\n",
    "letters = ['l', 'b']\n",
    "letters_numbers = [[1, 2, 3, 4, 5], ['l', 'b']]\n",
    "letters_numbers_nums = [[1, 2, 3, 4, 5], ['l', 'b'], 3]\n"
   ]
  },
  {
   "attachments": {},
   "cell_type": "markdown",
   "metadata": {},
   "source": [
    "### Tuple type"
   ]
  },
  {
   "attachments": {},
   "cell_type": "markdown",
   "metadata": {},
   "source": [
    "In Python, a tuple is a built-in data type that represents an immutable ordered collection of elements. It is similar to a list, but the main difference is that a tuple cannot be modified once it is created. This immutability makes tuples suitable for situations where you want to ensure that the data remains unchanged."
   ]
  },
  {
   "cell_type": "code",
   "execution_count": 13,
   "metadata": {},
   "outputs": [],
   "source": [
    "coordinates = (10, 20)\n",
    "polygons = ((10, 20),(10, 20))"
   ]
  },
  {
   "attachments": {},
   "cell_type": "markdown",
   "metadata": {},
   "source": [
    "### Dictionary type"
   ]
  },
  {
   "attachments": {},
   "cell_type": "markdown",
   "metadata": {},
   "source": [
    "In Python, a dictionary is a built-in data type that represents an unordered collection of key-value pairs. It is also known as an associative array or a hash map. Dictionaries are incredibly useful for storing and retrieving data in a flexible and efficient manner."
   ]
  },
  {
   "cell_type": "code",
   "execution_count": 14,
   "metadata": {},
   "outputs": [],
   "source": [
    "person = {'name': 'John', 'age': 30, 'city': 'New York'}"
   ]
  },
  {
   "cell_type": "code",
   "execution_count": 15,
   "metadata": {},
   "outputs": [
    {
     "name": "stdout",
     "output_type": "stream",
     "text": [
      "<class 'int'>\n",
      "<class 'float'>\n",
      "<class 'str'>\n",
      "<class 'bool'>\n",
      "<class 'list'>\n",
      "<class 'tuple'>\n",
      "<class 'dict'>\n"
     ]
    }
   ],
   "source": [
    "# Printing data types\n",
    "print(type(age))\n",
    "print(type(height))\n",
    "print(type(name))\n",
    "print(type(is_valid))\n",
    "print(type(numbers))\n",
    "print(type(coordinates))\n",
    "print(type(person))\n"
   ]
  },
  {
   "attachments": {},
   "cell_type": "markdown",
   "metadata": {},
   "source": [
    "## 1.3 String Commands"
   ]
  },
  {
   "cell_type": "code",
   "execution_count": 16,
   "metadata": {},
   "outputs": [],
   "source": [
    "# String creation\n",
    "name = 'Alice' # one equal sign means assing, acual equial is == "
   ]
  },
  {
   "cell_type": "code",
   "execution_count": 17,
   "metadata": {},
   "outputs": [
    {
     "name": "stdout",
     "output_type": "stream",
     "text": [
      "Alice\n"
     ]
    }
   ],
   "source": [
    "print(name)"
   ]
  },
  {
   "cell_type": "code",
   "execution_count": 18,
   "metadata": {},
   "outputs": [],
   "source": [
    "name='John'"
   ]
  },
  {
   "cell_type": "code",
   "execution_count": 19,
   "metadata": {},
   "outputs": [
    {
     "data": {
      "text/plain": [
       "'John'"
      ]
     },
     "execution_count": 19,
     "metadata": {},
     "output_type": "execute_result"
    }
   ],
   "source": [
    "name"
   ]
  },
  {
   "cell_type": "code",
   "execution_count": 20,
   "metadata": {},
   "outputs": [],
   "source": [
    "\n",
    "message = 'Hello, ' + name + '!'"
   ]
  },
  {
   "cell_type": "code",
   "execution_count": 21,
   "metadata": {},
   "outputs": [
    {
     "name": "stdout",
     "output_type": "stream",
     "text": [
      "Hello, John!\n"
     ]
    }
   ],
   "source": [
    "print(message)  # Output: Hello, Alice!"
   ]
  },
  {
   "cell_type": "code",
   "execution_count": 22,
   "metadata": {},
   "outputs": [
    {
     "data": {
      "text/plain": [
       "2"
      ]
     },
     "execution_count": 22,
     "metadata": {},
     "output_type": "execute_result"
    }
   ],
   "source": [
    "1+1"
   ]
  },
  {
   "cell_type": "code",
   "execution_count": 25,
   "metadata": {},
   "outputs": [
    {
     "data": {
      "text/plain": [
       "'11'"
      ]
     },
     "execution_count": 25,
     "metadata": {},
     "output_type": "execute_result"
    }
   ],
   "source": [
    "'1' + '1'"
   ]
  },
  {
   "cell_type": "code",
   "execution_count": 26,
   "metadata": {},
   "outputs": [],
   "source": [
    "# String concatenation\n",
    "greeting = 'Hello, '\n",
    "subject = 'world!'\n",
    "combined = greeting + subject"
   ]
  },
  {
   "cell_type": "code",
   "execution_count": 27,
   "metadata": {},
   "outputs": [
    {
     "name": "stdout",
     "output_type": "stream",
     "text": [
      "Hello, world!\n"
     ]
    }
   ],
   "source": [
    "print(combined)  # Output: Hello, world!"
   ]
  },
  {
   "cell_type": "code",
   "execution_count": 28,
   "metadata": {},
   "outputs": [
    {
     "name": "stdout",
     "output_type": "stream",
     "text": [
      "P\n",
      "t\n",
      "n\n"
     ]
    }
   ],
   "source": [
    "# String indexing\n",
    "text = 'Python'\n",
    "print(text[0])  # Output: P\n",
    "print(text[2])  # Output: t\n",
    "print(text[-1])  # Output: n"
   ]
  },
  {
   "cell_type": "code",
   "execution_count": 30,
   "metadata": {},
   "outputs": [
    {
     "name": "stdout",
     "output_type": "stream",
     "text": [
      "Hello\n",
      "world!\n",
      "Hello\n"
     ]
    }
   ],
   "source": [
    "# String slicing\n",
    "text = 'Hello, world!'\n",
    "print(text[0:5])  # Output: Hello\n",
    "print(text[7:])  # Output: world!\n",
    "print(text[:5])  # Output: Hello"
   ]
  },
  {
   "cell_type": "code",
   "execution_count": 31,
   "metadata": {},
   "outputs": [
    {
     "name": "stdout",
     "output_type": "stream",
     "text": [
      "6\n"
     ]
    }
   ],
   "source": [
    "# String length\n",
    "text = 'Python'\n",
    "print(len(text))  # Output: 6\n"
   ]
  },
  {
   "cell_type": "code",
   "execution_count": 32,
   "metadata": {},
   "outputs": [
    {
     "name": "stdout",
     "output_type": "stream",
     "text": [
      "5\n"
     ]
    }
   ],
   "source": [
    "print(len('text1'))"
   ]
  },
  {
   "cell_type": "code",
   "execution_count": 33,
   "metadata": {},
   "outputs": [
    {
     "name": "stdout",
     "output_type": "stream",
     "text": [
      "Hello, world!\n",
      "   hello, world!   \n",
      "   HELLO, WORLD!   \n",
      "   Hello, Python!   \n"
     ]
    }
   ],
   "source": [
    "# String methods\n",
    "text = '   Hello, world!   '\n",
    "print(text.strip())  # Output: Hello, world!\n",
    "print(text.lower())  # Output:    hello, world!\n",
    "print(text.upper())  # Output:    HELLO, WORLD!\n",
    "print(text.replace('world', 'Python'))  # Output:    Hello, Python!"
   ]
  },
  {
   "cell_type": "code",
   "execution_count": 34,
   "metadata": {},
   "outputs": [
    {
     "data": {
      "text/plain": [
       "'Canola'"
      ]
     },
     "execution_count": 34,
     "metadata": {},
     "output_type": "execute_result"
    }
   ],
   "source": [
    "'canola'.capitalize()"
   ]
  },
  {
   "cell_type": "code",
   "execution_count": 35,
   "metadata": {},
   "outputs": [
    {
     "name": "stdout",
     "output_type": "stream",
     "text": [
      "['Hello', ' world!']\n"
     ]
    }
   ],
   "source": [
    "# String splitting\n",
    "text = 'Hello, world!'\n",
    "words = text.split(',')\n",
    "print(words)  # Output: ['Hello', ' world!']"
   ]
  },
  {
   "attachments": {},
   "cell_type": "markdown",
   "metadata": {},
   "source": [
    "# Training 2"
   ]
  },
  {
   "attachments": {},
   "cell_type": "markdown",
   "metadata": {},
   "source": [
    "## 2.0 If - Else Statements"
   ]
  },
  {
   "attachments": {},
   "cell_type": "markdown",
   "metadata": {},
   "source": [
    "In Python, the if-else statement is a conditional statement that allows you to execute different blocks of code based on certain conditions. It provides a way to control the flow of your program based on whether a condition is true or false."
   ]
  },
  {
   "attachments": {},
   "cell_type": "markdown",
   "metadata": {},
   "source": [
    "Here's a breakdown of how the if-else statement works:\n",
    "\n",
    "- The condition is an expression that evaluates to either True or False. It can involve variables, comparison operators, logical operators, or any other expression that results in a Boolean value.\n",
    "\n",
    "- If the condition is true, the block of code indented under the if statement is executed. This block of code is known as the \"if block\" or \"if clause\".\n",
    "\n",
    "- If the condition is false, the block of code indented under the else statement is executed. This block of code is known as the \"else block\" or \"else clause\"."
   ]
  },
  {
   "cell_type": "code",
   "execution_count": 37,
   "metadata": {},
   "outputs": [
    {
     "name": "stdout",
     "output_type": "stream",
     "text": [
      "High yield! The crop is ready for harvest.\n"
     ]
    }
   ],
   "source": [
    "crop_yield = 6000  # Yield of the crop in kilograms\n",
    "if crop_yield > 4000:\n",
    "    print('High yield! The crop is ready for harvest.')\n",
    "else:\n",
    "    print('Low yield. The crop needs more time to grow.')"
   ]
  },
  {
   "attachments": {},
   "cell_type": "markdown",
   "metadata": {},
   "source": [
    "You can also extend the if-else statement with additional conditions using elif (short for \"else if\") clauses. This allows you to check for multiple conditions sequentially. "
   ]
  },
  {
   "cell_type": "code",
   "execution_count": 39,
   "metadata": {},
   "outputs": [
    {
     "name": "stdout",
     "output_type": "stream",
     "text": [
      "The soil is well-hydrated.\n"
     ]
    }
   ],
   "source": [
    "soil_moisture = 0.85  # Moisture level of the soil\n",
    "if soil_moisture > 0.8:\n",
    "    print('The soil is well-hydrated.')\n",
    "elif soil_moisture > 0.4:\n",
    "    print('The soil is moderately hydrated.')\n",
    "else:\n",
    "    print('The soil needs watering.')"
   ]
  },
  {
   "cell_type": "code",
   "execution_count": 40,
   "metadata": {},
   "outputs": [
    {
     "name": "stdout",
     "output_type": "stream",
     "text": [
      "High pest infestation! Immediate action required.\n"
     ]
    }
   ],
   "source": [
    "pest_count = 60  # Number of pests detected\n",
    "if pest_count > 50:\n",
    "    print('High pest infestation! Immediate action required.')\n",
    "elif pest_count > 10:\n",
    "    print('Moderate pest infestation. Take necessary measures.')\n",
    "else:\n",
    "    print('Low pest count. No immediate action needed.')"
   ]
  },
  {
   "cell_type": "code",
   "execution_count": 41,
   "metadata": {},
   "outputs": [
    {
     "name": "stdout",
     "output_type": "stream",
     "text": [
      "Low temperature! The crop may suffer from cold damage.\n"
     ]
    }
   ],
   "source": [
    "crop_temperature = 7  # Temperature in degrees Celsius\n",
    "if crop_temperature > 35:\n",
    "    print('High temperature! The crop may experience heat stress.')\n",
    "elif crop_temperature < 20:\n",
    "    print('Low temperature! The crop may suffer from cold damage.')\n",
    "else:\n",
    "    print('Temperature within the crop\\'s tolerance range.')"
   ]
  },
  {
   "cell_type": "code",
   "execution_count": 42,
   "metadata": {},
   "outputs": [
    {
     "name": "stdout",
     "output_type": "stream",
     "text": [
      "Moderate nutrient level. Regular fertilization recommended.\n"
     ]
    }
   ],
   "source": [
    "nutrient_level = 0.6  # Nutrient level in the soil\n",
    "if nutrient_level < 0.4:\n",
    "    print('Low nutrient level. Apply fertilizers for better growth.')\n",
    "elif nutrient_level < 0.8:\n",
    "    print('Moderate nutrient level. Regular fertilization recommended.')\n",
    "else:\n",
    "    print('High nutrient level. Limit fertilizer application to avoid nutrient imbalance.')"
   ]
  },
  {
   "attachments": {},
   "cell_type": "markdown",
   "metadata": {},
   "source": [
    "## 2.1 For Loops"
   ]
  },
  {
   "attachments": {},
   "cell_type": "markdown",
   "metadata": {},
   "source": [
    "In Python, a for loop is a control flow statement that allows you to iterate over a sequence of elements. It provides a convenient way to perform repetitive tasks on each item in the sequence."
   ]
  },
  {
   "cell_type": "code",
   "execution_count": 43,
   "metadata": {},
   "outputs": [
    {
     "name": "stdout",
     "output_type": "stream",
     "text": [
      "Field A\n",
      "Field B\n",
      "Field C\n",
      "Field D\n",
      "Field E\n",
      "Field F\n"
     ]
    }
   ],
   "source": [
    "print('Field A')\n",
    "print('Field B')\n",
    "print('Field C')\n",
    "print('Field D')\n",
    "print('Field E')\n",
    "print('Field F')"
   ]
  },
  {
   "cell_type": "code",
   "execution_count": 45,
   "metadata": {},
   "outputs": [],
   "source": [
    "irrigation_zones = ['Field A', 'Field B', 'Field C','Field D', 'Field E', 'Field F']"
   ]
  },
  {
   "cell_type": "code",
   "execution_count": 46,
   "metadata": {},
   "outputs": [
    {
     "name": "stdout",
     "output_type": "stream",
     "text": [
      "Field A\n",
      "Field B\n",
      "Field C\n",
      "Field D\n",
      "Field E\n",
      "Field F\n"
     ]
    }
   ],
   "source": [
    "for zone in irrigation_zones:\n",
    "    print(zone)"
   ]
  },
  {
   "cell_type": "code",
   "execution_count": 47,
   "metadata": {},
   "outputs": [
    {
     "name": "stdout",
     "output_type": "stream",
     "text": [
      "Watering Field A\n",
      "Watering Field B\n",
      "Watering Field C\n"
     ]
    }
   ],
   "source": [
    "print('Watering Field A')\n",
    "print('Watering Field B')\n",
    "print('Watering Field C')"
   ]
  },
  {
   "cell_type": "code",
   "execution_count": 48,
   "metadata": {},
   "outputs": [
    {
     "name": "stdout",
     "output_type": "stream",
     "text": [
      "Watering Field A\n",
      "Watering Field B\n",
      "Watering Field C\n",
      "Watering Field D\n",
      "Watering Field E\n",
      "Watering Field F\n"
     ]
    }
   ],
   "source": [
    "for zone in irrigation_zones:\n",
    "    print('Watering', zone)"
   ]
  },
  {
   "cell_type": "code",
   "execution_count": 53,
   "metadata": {},
   "outputs": [
    {
     "name": "stdout",
     "output_type": "stream",
     "text": [
      "Watering Field A\n",
      "Watering complete for Field A\n",
      "Watering Field B\n",
      "Watering complete for Field B\n",
      "Watering Field C\n",
      "Watering complete for Field C\n",
      "Watering Field D\n",
      "Watering complete for Field D\n",
      "Watering Field E\n",
      "Watering complete for Field E\n",
      "Watering Field F\n",
      "Watering complete for Field F\n"
     ]
    }
   ],
   "source": [
    "for zone in irrigation_zones:\n",
    "    print('Watering', zone)\n",
    "    print('Watering complete for', zone)"
   ]
  },
  {
   "cell_type": "code",
   "execution_count": 56,
   "metadata": {},
   "outputs": [
    {
     "name": "stdout",
     "output_type": "stream",
     "text": [
      "High yield. Crop quality: Excellent\n",
      "Moderate yield. Crop quality: Good\n",
      "Low yield. Crop quality: Fair\n",
      "High yield. Crop quality: Excellent\n",
      "Moderate yield. Crop quality: Good\n",
      "Low yield. Crop quality: Fair\n",
      "High yield. Crop quality: Excellent\n",
      "Moderate yield. Crop quality: Good\n",
      "Low yield. Crop quality: Fair\n",
      "High yield. Crop quality: Excellent\n",
      "Moderate yield. Crop quality: Good\n",
      "Low yield. Crop quality: Fair\n",
      "High yield. Crop quality: Excellent\n",
      "Moderate yield. Crop quality: Good\n",
      "Low yield. Crop quality: Fair\n"
     ]
    }
   ],
   "source": [
    "crop_yield = [4500, 5200, 3800, 6000, 4300]\n",
    "\n",
    "for yield_ in crop_yield:\n",
    "    print('High yield. Crop quality: Excellent')\n",
    "    print('Moderate yield. Crop quality: Good')\n",
    "    print('Low yield. Crop quality: Fair')"
   ]
  },
  {
   "cell_type": "code",
   "execution_count": 57,
   "metadata": {},
   "outputs": [
    {
     "name": "stdout",
     "output_type": "stream",
     "text": [
      "Moderate yield. Crop quality: Good\n",
      "High yield. Crop quality: Excellent\n",
      "Low yield. Crop quality: Fair\n",
      "High yield. Crop quality: Excellent\n",
      "Moderate yield. Crop quality: Good\n"
     ]
    }
   ],
   "source": [
    "crop_yield = [4500, 5200, 3800, 6000, 4300]\n",
    "\n",
    "for yield_ in crop_yield:\n",
    "    if yield_ > 5000:\n",
    "        print('High yield. Crop quality: Excellent')\n",
    "    elif yield_ > 4000:\n",
    "        print('Moderate yield. Crop quality: Good')\n",
    "    else:\n",
    "        print('Low yield. Crop quality: Fair')\n"
   ]
  },
  {
   "attachments": {},
   "cell_type": "markdown",
   "metadata": {},
   "source": [
    "## 2.3 While Loops"
   ]
  },
  {
   "attachments": {},
   "cell_type": "markdown",
   "metadata": {},
   "source": [
    "In Python, a while loop is a control flow statement that allows you to repeatedly execute a block of code as long as a certain condition remains true. It provides a way to create a loop that continues until a specific condition is met."
   ]
  },
  {
   "cell_type": "code",
   "execution_count": 58,
   "metadata": {},
   "outputs": [
    {
     "name": "stdout",
     "output_type": "stream",
     "text": [
      "Start pest monitoring...\n",
      "Pest count: 10\n",
      "Pest count: 20\n",
      "Pest count: 30\n",
      "Pest count: 40\n",
      "Pest count: 50\n",
      "Pest count: 60\n",
      "Pest count: 70\n",
      "Pest count: 80\n",
      "Pest count: 90\n",
      "Pest count: 100\n",
      "Pest count reached the threshold. Take necessary pest control measures.\n"
     ]
    }
   ],
   "source": [
    "pest_count = 0\n",
    "\n",
    "print('Start pest monitoring...')\n",
    "while pest_count < 100:\n",
    "    pest_count += 10\n",
    "    print('Pest count:', pest_count)\n",
    "print('Pest count reached the threshold. Take necessary pest control measures.')\n"
   ]
  },
  {
   "attachments": {},
   "cell_type": "markdown",
   "metadata": {},
   "source": [
    "## 3.0 def keyword"
   ]
  },
  {
   "attachments": {},
   "cell_type": "markdown",
   "metadata": {},
   "source": [
    "In Python, the def keyword is used to define a function. A function is a block of reusable code that performs a specific task or a set of actions. It allows you to organize your code into logical units, improve code reusability, and make your program more modular."
   ]
  },
  {
   "cell_type": "code",
   "execution_count": 59,
   "metadata": {},
   "outputs": [],
   "source": [
    "def print_crop_name():\n",
    "    print('Canola')"
   ]
  },
  {
   "cell_type": "code",
   "execution_count": 60,
   "metadata": {},
   "outputs": [
    {
     "name": "stdout",
     "output_type": "stream",
     "text": [
      "Canola\n"
     ]
    }
   ],
   "source": [
    "print_crop_name()"
   ]
  },
  {
   "cell_type": "code",
   "execution_count": 61,
   "metadata": {},
   "outputs": [],
   "source": [
    "def crop_yield():\n",
    "    crop_yield = 3000  # Yield of the crop in kilograms\n",
    "    if crop_yield > 4000:\n",
    "        print('High yield! The crop is ready for harvest.')\n",
    "    else:\n",
    "        print('Low yield. The crop needs more time to grow.')"
   ]
  },
  {
   "cell_type": "code",
   "execution_count": 62,
   "metadata": {},
   "outputs": [
    {
     "name": "stdout",
     "output_type": "stream",
     "text": [
      "Low yield. The crop needs more time to grow.\n"
     ]
    }
   ],
   "source": [
    "crop_yield()"
   ]
  },
  {
   "cell_type": "code",
   "execution_count": 63,
   "metadata": {},
   "outputs": [],
   "source": [
    "def crop_yield_quality():\n",
    "    crop_yield = [4500, 5200, 3800, 6000, 4300]\n",
    "\n",
    "    for yield_ in crop_yield:\n",
    "        if yield_ > 5000:\n",
    "            print('High yield. Crop quality: Excellent')\n",
    "        elif yield_ > 4000:\n",
    "            print('Moderate yield. Crop quality: Good')\n",
    "        else:\n",
    "            print('Low yield. Crop quality: Fair')"
   ]
  },
  {
   "cell_type": "code",
   "execution_count": 64,
   "metadata": {},
   "outputs": [
    {
     "name": "stdout",
     "output_type": "stream",
     "text": [
      "Moderate yield. Crop quality: Good\n",
      "High yield. Crop quality: Excellent\n",
      "Low yield. Crop quality: Fair\n",
      "High yield. Crop quality: Excellent\n",
      "Moderate yield. Crop quality: Good\n"
     ]
    }
   ],
   "source": [
    "crop_yield_quality()"
   ]
  },
  {
   "cell_type": "code",
   "execution_count": 65,
   "metadata": {},
   "outputs": [],
   "source": [
    "def predict_crop_growth(days):\n",
    "    growth_rate = 0.8  # Growth rate in centimeters per day\n",
    "    initial_height = 12  # Initial height of the crop in centimeters\n",
    "    predicted_height = initial_height + (growth_rate * days)\n",
    "    return predicted_height"
   ]
  },
  {
   "cell_type": "code",
   "execution_count": 66,
   "metadata": {},
   "outputs": [
    {
     "data": {
      "text/plain": [
       "21.6"
      ]
     },
     "execution_count": 66,
     "metadata": {},
     "output_type": "execute_result"
    }
   ],
   "source": [
    "predict_crop_growth(12)"
   ]
  },
  {
   "cell_type": "code",
   "execution_count": 67,
   "metadata": {},
   "outputs": [
    {
     "name": "stdout",
     "output_type": "stream",
     "text": [
      "Predicted crop height after 16 days: 24.8 cm\n"
     ]
    }
   ],
   "source": [
    "# Using the function\n",
    "days_passed = 16\n",
    "predicted_height = predict_crop_growth(days_passed)\n",
    "print('Predicted crop height after', days_passed, 'days:', predicted_height, 'cm')"
   ]
  },
  {
   "cell_type": "code",
   "execution_count": 68,
   "metadata": {},
   "outputs": [
    {
     "name": "stdout",
     "output_type": "stream",
     "text": [
      "Predicted crop height after 16 days: 24.8 cm\n"
     ]
    }
   ],
   "source": [
    "print('Predicted crop height after', days_passed, 'days:', predicted_height, 'cm')"
   ]
  }
 ],
 "metadata": {
  "kernelspec": {
   "display_name": "Python 3",
   "language": "python",
   "name": "python3"
  },
  "language_info": {
   "codemirror_mode": {
    "name": "ipython",
    "version": 3
   },
   "file_extension": ".py",
   "mimetype": "text/x-python",
   "name": "python",
   "nbconvert_exporter": "python",
   "pygments_lexer": "ipython3",
   "version": "3.11.5"
  },
  "orig_nbformat": 4
 },
 "nbformat": 4,
 "nbformat_minor": 2
}
